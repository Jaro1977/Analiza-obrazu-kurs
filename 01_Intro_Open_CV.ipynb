{
  "nbformat": 4,
  "nbformat_minor": 0,
  "metadata": {
    "colab": {
      "provenance": [],
      "authorship_tag": "ABX9TyNjnhgDihDMBwDXqogFSq/C",
      "include_colab_link": true
    },
    "kernelspec": {
      "name": "python3",
      "display_name": "Python 3"
    },
    "language_info": {
      "name": "python"
    }
  },
  "cells": [
    {
      "cell_type": "markdown",
      "metadata": {
        "id": "view-in-github",
        "colab_type": "text"
      },
      "source": [
        "<a href=\"https://colab.research.google.com/github/Jaro1977/Analiza-obrazu-kurs/blob/main/01_Intro_Open_CV.ipynb\" target=\"_parent\"><img src=\"https://colab.research.google.com/assets/colab-badge.svg\" alt=\"Open In Colab\"/></a>"
      ]
    },
    {
      "cell_type": "code",
      "execution_count": null,
      "metadata": {
        "id": "7_ApxmXMWIGf"
      },
      "outputs": [],
      "source": []
    },
    {
      "cell_type": "markdown",
      "source": [
        "01 Intro"
      ],
      "metadata": {
        "id": "UB9nioGpWIu3"
      }
    },
    {
      "cell_type": "code",
      "source": [],
      "metadata": {
        "id": "cN2S9n8ZWKt2"
      },
      "execution_count": null,
      "outputs": []
    }
  ]
}